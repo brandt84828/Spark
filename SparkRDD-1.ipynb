{
 "cells": [
  {
   "cell_type": "code",
   "execution_count": 1,
   "id": "dac5186b",
   "metadata": {},
   "outputs": [],
   "source": [
    "from pyspark import SparkConf, SparkContext"
   ]
  },
  {
   "cell_type": "code",
   "execution_count": 3,
   "id": "e4821207-e02c-47cd-9fc6-b335a000fa5a",
   "metadata": {},
   "outputs": [
    {
     "name": "stdout",
     "output_type": "stream",
     "text": [
      "[('', 6), ('Copyright', 1), ('(c)', 1), ('2009-2011,', 1), ('Barthelemy', 1), ('Dagenais', 1), ('All', 1), ('rights', 1), ('reserved.', 1), ('Redistribution', 1), ('and', 4), ('use', 1), ('in', 3), ('source', 2), ('binary', 2), ('forms,', 1), ('with', 2), ('or', 2), ('without', 2), ('modification,', 1), ('are', 2), ('permitted', 1), ('provided', 2), ('that', 1), ('the', 8), ('following', 3), ('conditions', 3), ('met:', 1), ('-', 3), ('Redistributions', 2), ('of', 4), ('code', 1), ('must', 2), ('retain', 1), ('above', 2), ('copyright', 2), ('notice,', 2), ('this', 3), ('list', 2), ('disclaimer.', 1), ('form', 1), ('reproduce', 1), ('disclaimer', 1), ('documentation', 1), ('and/or', 1), ('other', 1), ('materials', 1), ('distribution.', 1), ('The', 1), ('name', 1), ('author', 1), ('may', 1), ('not', 1), ('be', 1), ('used', 1), ('to', 1), ('endorse', 1), ('promote', 1), ('products', 1), ('derived', 1), ('from', 1), ('software', 1), ('specific', 1), ('prior', 1), ('written', 1), ('permission.', 1), ('THIS', 2), ('SOFTWARE', 1), ('IS', 1), ('PROVIDED', 1), ('BY', 1), ('THE', 5), ('COPYRIGHT', 2), ('HOLDERS', 1), ('AND', 4), ('CONTRIBUTORS', 2), ('\"AS', 1), ('IS\"', 1), ('ANY', 4), ('EXPRESS', 1), ('OR', 8), ('IMPLIED', 2), ('WARRANTIES,', 1), ('INCLUDING,', 1), ('BUT', 2), ('NOT', 2), ('LIMITED', 2), ('TO,', 2), ('WARRANTIES', 1), ('OF', 8), ('MERCHANTABILITY', 1), ('FITNESS', 1), ('FOR', 2), ('A', 1), ('PARTICULAR', 1), ('PURPOSE', 1), ('ARE', 1), ('DISCLAIMED.', 1), ('IN', 3), ('NO', 1), ('EVENT', 1), ('SHALL', 1), ('HOLDER', 1), ('BE', 1), ('LIABLE', 1), ('DIRECT,', 1), ('INDIRECT,', 1), ('INCIDENTAL,', 1), ('SPECIAL,', 1), ('EXEMPLARY,', 1), ('CONSEQUENTIAL', 1), ('DAMAGES', 1), ('(INCLUDING,', 1), ('PROCUREMENT', 1), ('SUBSTITUTE', 1), ('GOODS', 1), ('SERVICES;', 1), ('LOSS', 1), ('USE,', 1), ('DATA,', 1), ('PROFITS;', 1), ('BUSINESS', 1), ('INTERRUPTION)', 1), ('HOWEVER', 1), ('CAUSED', 1), ('ON', 1), ('THEORY', 1), ('LIABILITY,', 2), ('WHETHER', 1), ('CONTRACT,', 1), ('STRICT', 1), ('TORT', 1), ('(INCLUDING', 1), ('NEGLIGENCE', 1), ('OTHERWISE)', 1), ('ARISING', 1), ('WAY', 1), ('OUT', 1), ('USE', 1), ('SOFTWARE,', 1), ('EVEN', 1), ('IF', 1), ('ADVISED', 1), ('POSSIBILITY', 1), ('SUCH', 1), ('DAMAGE.', 1)]\n"
     ]
    }
   ],
   "source": [
    "if __name__=='__main__':\n",
    "    conf = SparkConf().setMaster(\"local[*]\").setAppName(\"WorkCountHelloWorld\")\n",
    "    sc = SparkContext(conf=conf)\n",
    "    \n",
    "    file_rdd = sc.textFile(\"/home/cris/spark/python/lib/PY4J_LICENSE.txt\")\n",
    "    \n",
    "    words_rdd = file_rdd.flatMap(lambda line: line.split(\" \"))\n",
    "    \n",
    "    words_with_one_rdd = words_rdd.map(lambda x: (x,1))\n",
    "    \n",
    "    result_rdd = words_with_one_rdd.reduceByKey(lambda a, b: a + b)\n",
    "    \n",
    "    print(result_rdd.collect())"
   ]
  },
  {
   "cell_type": "code",
   "execution_count": 12,
   "id": "f27de0dd-3d35-47bf-9ebd-e740a0fc7fc1",
   "metadata": {},
   "outputs": [
    {
     "name": "stdout",
     "output_type": "stream",
     "text": [
      "[('a', <pyspark.resultiterable.ResultIterable object at 0x7f34500c5580>), ('b', <pyspark.resultiterable.ResultIterable object at 0x7f3450052c70>)]\n",
      "[('a', [('a', 1), ('a', 1)]), ('b', [('b', 1), ('b', 1), ('b', 1)])]\n"
     ]
    }
   ],
   "source": [
    "\n",
    "\n",
    "rdd = sc.parallelize([('a',1),('a',1),('b',1),('b',1),('b',1)])\n",
    "\n",
    "result = rdd.groupBy(lambda t: t[0])\n",
    "print(result.collect())\n",
    "print(result.map(lambda t:(t[0],list(t[1]))).collect())"
   ]
  },
  {
   "cell_type": "code",
   "execution_count": 13,
   "id": "32864eea-10e6-4c49-a35d-aea4f92577a9",
   "metadata": {},
   "outputs": [
    {
     "name": "stdout",
     "output_type": "stream",
     "text": [
      "[1, 3, 5]\n"
     ]
    }
   ],
   "source": [
    "rdd = sc.parallelize([1,2,3,4,5,6])\n",
    "\n",
    "result = rdd.filter(lambda x: x % 2 == 1)\n",
    "print(result.collect())"
   ]
  },
  {
   "cell_type": "code",
   "execution_count": 16,
   "id": "832657ef-381b-4aad-a6b6-dbeb8d5e8c52",
   "metadata": {},
   "outputs": [
    {
     "name": "stdout",
     "output_type": "stream",
     "text": [
      "[1, 2, 3]\n",
      "[('a', 1), ('a', 3)]\n"
     ]
    }
   ],
   "source": [
    "rdd = sc.parallelize([1,1,1,2,2,2,3,3,3])\n",
    "print(rdd.distinct().collect())\n",
    "\n",
    "rdd2 = sc.parallelize([('a',1),('a',1),('a',3)])\n",
    "print(rdd2.distinct().collect())"
   ]
  },
  {
   "cell_type": "code",
   "execution_count": 17,
   "id": "abdb7249-1a52-4a04-b9fd-e46a10fec0f5",
   "metadata": {},
   "outputs": [
    {
     "name": "stdout",
     "output_type": "stream",
     "text": [
      "[1, 1, 3, 3, 'a', 'b', 'c']\n"
     ]
    }
   ],
   "source": [
    "rdd1 = sc.parallelize([1,1,3,3])\n",
    "rdd2 = sc.parallelize([\"a\",\"b\",\"c\"])\n",
    "rdd3 = rdd1.union(rdd2)\n",
    "print(rdd3.collect())"
   ]
  },
  {
   "cell_type": "code",
   "execution_count": 19,
   "id": "4328ade5-5a71-4a61-9aa7-cc53bb35cf48",
   "metadata": {},
   "outputs": [
    {
     "name": "stdout",
     "output_type": "stream",
     "text": [
      "[(1002, ('User2', 'BD')), (1001, ('User1', 'RD'))]\n",
      "[(1002, ('User2', 'BD')), (1004, ('User4', None)), (1001, ('User1', 'RD')), (1003, ('User3', None))]\n",
      "[(1002, ('User2', 'BD')), (1001, ('User1', 'RD'))]\n"
     ]
    }
   ],
   "source": [
    "rdd1 = sc.parallelize([(1001,\"User1\"),(1002,\"User2\"),(1003,\"User3\"),(1004,\"User4\")])\n",
    "rdd2 = sc.parallelize([(1001,\"RD\"),(1002,\"BD\")])\n",
    "print(rdd1.join(rdd2).collect())\n",
    "print(rdd1.leftOuterJoin(rdd2).collect())\n",
    "print(rdd1.rightOuterJoin(rdd2).collect())"
   ]
  },
  {
   "cell_type": "code",
   "execution_count": 20,
   "id": "1bff5671-5052-42e8-8d38-4bde2b440080",
   "metadata": {},
   "outputs": [
    {
     "name": "stdout",
     "output_type": "stream",
     "text": [
      "[('a', 1)]\n"
     ]
    }
   ],
   "source": [
    "rdd1 = sc.parallelize([('a',1),('a',3)])\n",
    "rdd2 = sc.parallelize([('a',1),('b',3)])\n",
    "rdd3 = rdd1.intersection(rdd2)\n",
    "print(rdd3.collect())"
   ]
  },
  {
   "cell_type": "code",
   "execution_count": 22,
   "id": "04eea25a-6403-4e30-b3ea-49b4bb5905bb",
   "metadata": {},
   "outputs": [
    {
     "name": "stdout",
     "output_type": "stream",
     "text": [
      "[[1, 2, 3], [4, 5, 6], [7, 8, 9]]\n",
      "[1, 2, 3, 4, 5, 6, 7, 8, 9]\n"
     ]
    }
   ],
   "source": [
    "rdd = sc.parallelize([1,2,3,4,5,6,7,8,9],3)\n",
    "print(rdd.glom().collect())\n",
    "print(rdd.glom().flatMap(lambda x:x).collect())"
   ]
  },
  {
   "cell_type": "code",
   "execution_count": 26,
   "id": "ac4d585a-e303-4450-9229-4974af60ea87",
   "metadata": {},
   "outputs": [
    {
     "name": "stdout",
     "output_type": "stream",
     "text": [
      "[('a', [1, 1]), ('b', [1, 1, 1])]\n"
     ]
    }
   ],
   "source": [
    "rdd = sc.parallelize([('a',1),('a',1),('b',1),('b',1),('b',1)])\n",
    "rdd2 = rdd.groupByKey()\n",
    "print(rdd2.map(lambda x: (x[0], list(x[1]))).collect())"
   ]
  },
  {
   "cell_type": "code",
   "execution_count": 30,
   "id": "f4bd38ad-52cd-4961-9f24-64a383822bf5",
   "metadata": {},
   "outputs": [
    {
     "name": "stdout",
     "output_type": "stream",
     "text": [
      "[('f', 1), ('a', 1), ('a', 1), ('a', 1), ('c', 3), ('c', 3), ('e', 5), ('e', 9), ('b', 11)]\n",
      "[('f', 1), ('e', 5), ('e', 9), ('c', 3), ('c', 3), ('b', 11), ('a', 1), ('a', 1), ('a', 1)]\n"
     ]
    }
   ],
   "source": [
    "rdd = sc.parallelize([('c',3),('f',1),('b',11),('c',3),('a',1),('e',5),('a',1),('e',9),('a',1)],3)\n",
    "print(rdd.sortBy(lambda x:x[1],ascending=True,numPartitions=1).collect())\n",
    "print(rdd.sortBy(lambda x:x[0],ascending=False,numPartitions=1).collect())"
   ]
  },
  {
   "cell_type": "code",
   "execution_count": 37,
   "id": "f5ed4304-960b-4248-9d4c-6e1577990b0d",
   "metadata": {},
   "outputs": [
    {
     "name": "stdout",
     "output_type": "stream",
     "text": [
      "[('a', 1), ('A', 9), ('a', 1), ('b', 11), ('c', 3), ('c', 3), ('C', 1), ('e', 5), ('f', 1)]\n"
     ]
    }
   ],
   "source": [
    "rdd = sc.parallelize([('c',3),('f',1),('b',11),('c',3),('C',1),('e',5),('a',1),('A',9),('a',1)],3)\n",
    "print(rdd.sortByKey(ascending=True,numPartitions=1,keyfunc=lambda key: str(key).lower()).collect())"
   ]
  },
  {
   "cell_type": "code",
   "execution_count": null,
   "id": "8ef5c2ca-0dfe-4116-914f-73cff8a0b575",
   "metadata": {},
   "outputs": [],
   "source": [
    "rdd = sc.textFile(\"/home/cris/spark/python/lib/PY4J_LICENSE.txt\")\n",
    "rdd2 = rdd.flatMap(lambda x: x.split(\" \")).map(lambda x: (x,1))\n",
    "rdd2.countByKey()"
   ]
  },
  {
   "cell_type": "code",
   "execution_count": 39,
   "id": "4eea15af-54bb-43e7-a968-829ae3c8d891",
   "metadata": {},
   "outputs": [
    {
     "name": "stdout",
     "output_type": "stream",
     "text": [
      "15\n"
     ]
    }
   ],
   "source": [
    "rdd = sc.parallelize([1,2,3,4,5])\n",
    "print(rdd.reduce(lambda a, b: a + b))"
   ]
  },
  {
   "cell_type": "code",
   "execution_count": 41,
   "id": "db1aece3-1ead-4882-b092-ee1ed39b8151",
   "metadata": {},
   "outputs": [
    {
     "name": "stdout",
     "output_type": "stream",
     "text": [
      "85\n"
     ]
    }
   ],
   "source": [
    "rdd = sc.parallelize([1,2,3,4,5,6,7,8,9],3)\n",
    "print(rdd.fold(10,lambda a, b: a + b))"
   ]
  },
  {
   "cell_type": "code",
   "execution_count": 42,
   "id": "df86a995-1f93-435f-893f-dd7b143754cc",
   "metadata": {},
   "outputs": [
    {
     "data": {
      "text/plain": [
       "[8, 7, 5]"
      ]
     },
     "execution_count": 42,
     "metadata": {},
     "output_type": "execute_result"
    }
   ],
   "source": [
    "sc.parallelize([3,2,3,5,7,8,1,3]).top(3)"
   ]
  },
  {
   "cell_type": "code",
   "execution_count": 47,
   "id": "6d2ff4e7-23e3-4acc-bcbf-70bb89ed532d",
   "metadata": {},
   "outputs": [
    {
     "name": "stdout",
     "output_type": "stream",
     "text": [
      "[2, 7, 6, 6, 3]\n"
     ]
    }
   ],
   "source": [
    "rdd = sc.parallelize([1,3,5,3,1,3,2,6,7,8,6],1)\n",
    "print(rdd.takeSample(False, 5, 1))"
   ]
  },
  {
   "cell_type": "code",
   "execution_count": 48,
   "id": "234acb9a-18f6-405c-9949-375c1dc24627",
   "metadata": {},
   "outputs": [
    {
     "name": "stdout",
     "output_type": "stream",
     "text": [
      "[1, 2, 3]\n",
      "[9, 7, 6]\n"
     ]
    }
   ],
   "source": [
    "rdd = sc.parallelize([1,3,2,4,7,9,6],1)\n",
    "print(rdd.takeOrdered(3))\n",
    "print(rdd.takeOrdered(3, lambda x: -x))"
   ]
  },
  {
   "cell_type": "code",
   "execution_count": 64,
   "id": "12ada70e-d6c0-4330-a19a-1007a98ba5a5",
   "metadata": {},
   "outputs": [
    {
     "name": "stdout",
     "output_type": "stream",
     "text": [
      "None\n"
     ]
    }
   ],
   "source": [
    "rdd = sc.parallelize([1,3,2,4,7,9,6],1)\n",
    "result = rdd.foreach(lambda x: print(x * 10))\n",
    "print(result)\n"
   ]
  },
  {
   "cell_type": "code",
   "execution_count": 65,
   "id": "d351798b-13ab-42fa-8a92-0b919d330519",
   "metadata": {},
   "outputs": [],
   "source": [
    "rdd = sc.parallelize([1,3,2,4,7,9,6],1)\n",
    "rdd.saveAsTextFile(\"out1\")"
   ]
  },
  {
   "cell_type": "code",
   "execution_count": 66,
   "id": "318f331c-6f9b-4d42-8fe2-7e8101d8b57c",
   "metadata": {},
   "outputs": [
    {
     "name": "stdout",
     "output_type": "stream",
     "text": [
      "[10, 30, 20, 40, 70, 90, 60]\n"
     ]
    }
   ],
   "source": [
    "rdd = sc.parallelize([1,3,2,4,7,9,6],3)\n",
    "def process(iter):\n",
    "    result = list()\n",
    "    for it in iter:\n",
    "        result.append(it * 10)\n",
    "    return result\n",
    "print(rdd.mapPartitions(process).collect())"
   ]
  },
  {
   "cell_type": "code",
   "execution_count": 68,
   "id": "02c04c05-faa8-4923-bd8a-e276d7a5b997",
   "metadata": {},
   "outputs": [
    {
     "name": "stdout",
     "output_type": "stream",
     "text": [
      "None\n"
     ]
    }
   ],
   "source": [
    "rdd = sc.parallelize([1,3,2,4,7,9,6],3)\n",
    "def process(iter):\n",
    "    result = list()\n",
    "    for it in iter:\n",
    "        result.append(it * 10)\n",
    "    print(result)\n",
    "print(rdd.foreachPartition(process))"
   ]
  },
  {
   "cell_type": "code",
   "execution_count": 69,
   "id": "b9342f8f-69e9-444e-8f4c-a1746d173416",
   "metadata": {},
   "outputs": [
    {
     "name": "stdout",
     "output_type": "stream",
     "text": [
      "[[('hadoop', 1), ('hello', 1), ('hadoop', 1)], [('spark', 1), ('spark', 1)], [('flink', 1)]]\n"
     ]
    }
   ],
   "source": [
    "rdd = sc.parallelize([('hadoop',1),('spark',1),('hello',1),('flink',1),('hadoop',1),('spark',1)])\n",
    "def process(k):\n",
    "    if 'hadoop' == k or 'hello' == k : return 0\n",
    "    if 'spark' == k: return 1\n",
    "    return 2\n",
    "print(rdd.partitionBy(3, process).glom().collect())"
   ]
  },
  {
   "cell_type": "code",
   "execution_count": 70,
   "id": "2c1d50ef-08e9-4d11-bbd7-55c3450ad797",
   "metadata": {},
   "outputs": [
    {
     "name": "stdout",
     "output_type": "stream",
     "text": [
      "1\n"
     ]
    }
   ],
   "source": [
    "rdd = sc.parallelize([1,2,3,4,5],3)\n",
    "print(rdd.repartition(1).getNumPartitions())"
   ]
  },
  {
   "cell_type": "code",
   "execution_count": 71,
   "id": "e8439cee-0cc5-49aa-a971-10f8fdcb86b3",
   "metadata": {},
   "outputs": [
    {
     "name": "stdout",
     "output_type": "stream",
     "text": [
      "1\n"
     ]
    }
   ],
   "source": [
    "rdd = sc.parallelize([1,2,3,4,5],3)\n",
    "print(rdd.coalesce(1).getNumPartitions())"
   ]
  },
  {
   "cell_type": "code",
   "execution_count": null,
   "id": "044c2811-9a03-47dc-9e55-19c7cf861db3",
   "metadata": {},
   "outputs": [
    {
     "name": "stdout",
     "output_type": "stream",
     "text": [
      "[('', 6), ('Copyright', 1), ('(c)', 1), ('2009-2011,', 1), ('Barthelemy', 1), ('Dagenais', 1), ('All', 1), ('rights', 1), ('reserved.', 1), ('Redistribution', 1), ('and', 4), ('use', 1), ('in', 3), ('source', 2), ('binary', 2), ('forms,', 1), ('with', 2), ('or', 2), ('without', 2), ('modification,', 1), ('are', 2), ('permitted', 1), ('provided', 2), ('that', 1), ('the', 8), ('following', 3), ('conditions', 3), ('met:', 1), ('-', 3), ('Redistributions', 2), ('of', 4), ('code', 1), ('must', 2), ('retain', 1), ('above', 2), ('copyright', 2), ('notice,', 2), ('this', 3), ('list', 2), ('disclaimer.', 1), ('form', 1), ('reproduce', 1), ('disclaimer', 1), ('documentation', 1), ('and/or', 1), ('other', 1), ('materials', 1), ('distribution.', 1), ('The', 1), ('name', 1), ('author', 1), ('may', 1), ('not', 1), ('be', 1), ('used', 1), ('to', 1), ('endorse', 1), ('promote', 1), ('products', 1), ('derived', 1), ('from', 1), ('software', 1), ('specific', 1), ('prior', 1), ('written', 1), ('permission.', 1), ('THIS', 2), ('SOFTWARE', 1), ('IS', 1), ('PROVIDED', 1), ('BY', 1), ('THE', 5), ('COPYRIGHT', 2), ('HOLDERS', 1), ('AND', 4), ('CONTRIBUTORS', 2), ('\"AS', 1), ('IS\"', 1), ('ANY', 4), ('EXPRESS', 1), ('OR', 8), ('IMPLIED', 2), ('WARRANTIES,', 1), ('INCLUDING,', 1), ('BUT', 2), ('NOT', 2), ('LIMITED', 2), ('TO,', 2), ('WARRANTIES', 1), ('OF', 8), ('MERCHANTABILITY', 1), ('FITNESS', 1), ('FOR', 2), ('A', 1), ('PARTICULAR', 1), ('PURPOSE', 1), ('ARE', 1), ('DISCLAIMED.', 1), ('IN', 3), ('NO', 1), ('EVENT', 1), ('SHALL', 1), ('HOLDER', 1), ('BE', 1), ('LIABLE', 1), ('DIRECT,', 1), ('INDIRECT,', 1), ('INCIDENTAL,', 1), ('SPECIAL,', 1), ('EXEMPLARY,', 1), ('CONSEQUENTIAL', 1), ('DAMAGES', 1), ('(INCLUDING,', 1), ('PROCUREMENT', 1), ('SUBSTITUTE', 1), ('GOODS', 1), ('SERVICES;', 1), ('LOSS', 1), ('USE,', 1), ('DATA,', 1), ('PROFITS;', 1), ('BUSINESS', 1), ('INTERRUPTION)', 1), ('HOWEVER', 1), ('CAUSED', 1), ('ON', 1), ('THEORY', 1), ('LIABILITY,', 2), ('WHETHER', 1), ('CONTRACT,', 1), ('STRICT', 1), ('TORT', 1), ('(INCLUDING', 1), ('NEGLIGENCE', 1), ('OTHERWISE)', 1), ('ARISING', 1), ('WAY', 1), ('OUT', 1), ('USE', 1), ('SOFTWARE,', 1), ('EVEN', 1), ('IF', 1), ('ADVISED', 1), ('POSSIBILITY', 1), ('SUCH', 1), ('DAMAGE.', 1)]\n",
      "[('', 6), ('Copyright', 1), ('(c)', 1), ('2009-2011,', 1), ('Barthelemy', 1), ('Dagenais', 1), ('All', 1), ('rights', 1), ('reserved.', 1), ('Redistribution', 1), ('and', 4), ('use', 1), ('in', 3), ('source', 2), ('binary', 2), ('forms,', 1), ('with', 2), ('or', 2), ('without', 2), ('modification,', 1), ('are', 2), ('permitted', 1), ('provided', 2), ('that', 1), ('the', 8), ('following', 3), ('conditions', 3), ('met:', 1), ('-', 3), ('Redistributions', 2), ('of', 4), ('code', 1), ('must', 2), ('retain', 1), ('above', 2), ('copyright', 2), ('notice,', 2), ('this', 3), ('list', 2), ('disclaimer.', 1), ('form', 1), ('reproduce', 1), ('disclaimer', 1), ('documentation', 1), ('and/or', 1), ('other', 1), ('materials', 1), ('distribution.', 1), ('The', 1), ('name', 1), ('author', 1), ('may', 1), ('not', 1), ('be', 1), ('used', 1), ('to', 1), ('endorse', 1), ('promote', 1), ('products', 1), ('derived', 1), ('from', 1), ('software', 1), ('specific', 1), ('prior', 1), ('written', 1), ('permission.', 1), ('THIS', 2), ('SOFTWARE', 1), ('IS', 1), ('PROVIDED', 1), ('BY', 1), ('THE', 5), ('COPYRIGHT', 2), ('HOLDERS', 1), ('AND', 4), ('CONTRIBUTORS', 2), ('\"AS', 1), ('IS\"', 1), ('ANY', 4), ('EXPRESS', 1), ('OR', 8), ('IMPLIED', 2), ('WARRANTIES,', 1), ('INCLUDING,', 1), ('BUT', 2), ('NOT', 2), ('LIMITED', 2), ('TO,', 2), ('WARRANTIES', 1), ('OF', 8), ('MERCHANTABILITY', 1), ('FITNESS', 1), ('FOR', 2), ('A', 1), ('PARTICULAR', 1), ('PURPOSE', 1), ('ARE', 1), ('DISCLAIMED.', 1), ('IN', 3), ('NO', 1), ('EVENT', 1), ('SHALL', 1), ('HOLDER', 1), ('BE', 1), ('LIABLE', 1), ('DIRECT,', 1), ('INDIRECT,', 1), ('INCIDENTAL,', 1), ('SPECIAL,', 1), ('EXEMPLARY,', 1), ('CONSEQUENTIAL', 1), ('DAMAGES', 1), ('(INCLUDING,', 1), ('PROCUREMENT', 1), ('SUBSTITUTE', 1), ('GOODS', 1), ('SERVICES;', 1), ('LOSS', 1), ('USE,', 1), ('DATA,', 1), ('PROFITS;', 1), ('BUSINESS', 1), ('INTERRUPTION)', 1), ('HOWEVER', 1), ('CAUSED', 1), ('ON', 1), ('THEORY', 1), ('LIABILITY,', 2), ('WHETHER', 1), ('CONTRACT,', 1), ('STRICT', 1), ('TORT', 1), ('(INCLUDING', 1), ('NEGLIGENCE', 1), ('OTHERWISE)', 1), ('ARISING', 1), ('WAY', 1), ('OUT', 1), ('USE', 1), ('SOFTWARE,', 1), ('EVEN', 1), ('IF', 1), ('ADVISED', 1), ('POSSIBILITY', 1), ('SUCH', 1), ('DAMAGE.', 1)]\n"
     ]
    }
   ],
   "source": [
    "import time\n",
    "rdd1 = sc.textFile(\"/home/cris/spark/python/lib/PY4J_LICENSE.txt\") \n",
    "rdd2 = rdd1.flatMap(lambda line: line.split(\" \")) \n",
    "rdd3 = rdd2.map(lambda x: (x,1))\n",
    "\n",
    "rdd4 = rdd3.reduceByKey(lambda a, b: a + b)\n",
    "print(rdd4.collect())\n",
    "\n",
    "rdd5 = rdd3.groupByKey()\n",
    "rdd6 = rdd5.mapValues(lambda x: sum(x))\n",
    "print(rdd6.collect())\n",
    "\n",
    "time.sleep(100000)"
   ]
  },
  {
   "cell_type": "code",
   "execution_count": null,
   "id": "9343d943-df1a-4994-9e0a-d3d948585bba",
   "metadata": {},
   "outputs": [],
   "source": []
  }
 ],
 "metadata": {
  "kernelspec": {
   "display_name": "Python 3",
   "language": "python",
   "name": "python3"
  },
  "language_info": {
   "codemirror_mode": {
    "name": "ipython",
    "version": 3
   },
   "file_extension": ".py",
   "mimetype": "text/x-python",
   "name": "python",
   "nbconvert_exporter": "python",
   "pygments_lexer": "ipython3",
   "version": "3.8.8"
  }
 },
 "nbformat": 4,
 "nbformat_minor": 5
}
